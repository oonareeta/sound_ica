{
 "cells": [
  {
   "cell_type": "code",
   "execution_count": null,
   "metadata": {},
   "outputs": [],
   "source": [
    "import numpy as np\n",
    "import matplotlib.pyplot as plt\n",
    "import scipy.io.wavfile\n",
    "from IPython.display import Audio\n",
    "%matplotlib inline\n",
    "import os\n",
    "\n",
    "from sklearn.decomposition import FastICA\n",
    "\n",
    "from mcc import mean_corr_coef as mcc"
   ]
  },
  {
   "cell_type": "code",
   "execution_count": null,
   "metadata": {},
   "outputs": [],
   "source": [
    "f, x1 = scipy.io.wavfile.read('band-music/mixed_audios/6components/mixed_1.wav')\n",
    "\n",
    "f, x2 = scipy.io.wavfile.read('band-music/mixed_audios/6components/mixed_2.wav')\n",
    "\n",
    "f, x3 = scipy.io.wavfile.read('band-music/mixed_audios/6components/mixed_3.wav')\n",
    "\n",
    "f, x4 = scipy.io.wavfile.read('band-music/mixed_audios/6components/mixed_4.wav')\n",
    "\n",
    "f, x5 = scipy.io.wavfile.read('band-music/mixed_audios/6components/mixed_5.wav')\n",
    "\n",
    "f, x6 = scipy.io.wavfile.read('band-music/mixed_audios/6components/mixed_6.wav')"
   ]
  },
  {
   "cell_type": "code",
   "execution_count": null,
   "metadata": {},
   "outputs": [],
   "source": [
    "X = np.array([x1, x2, x3, x4, x5, x6])"
   ]
  },
  {
   "cell_type": "code",
   "execution_count": null,
   "metadata": {},
   "outputs": [],
   "source": [
    "X = X.T"
   ]
  },
  {
   "cell_type": "code",
   "execution_count": null,
   "metadata": {},
   "outputs": [],
   "source": [
    "transformer = FastICA(n_components=6, random_state=0, whiten=True)\n",
    "\n",
    "S_est = transformer.fit_transform(X)"
   ]
  },
  {
   "cell_type": "code",
   "execution_count": null,
   "metadata": {},
   "outputs": [],
   "source": [
    "# Visualize and play estimated sources\n",
    "for i in range(S_est.shape[1]):\n",
    "\n",
    "    s = S_est[:,i]\n",
    "\n",
    "    # plot waveform\n",
    "    plt.figure()\n",
    "    plt.plot(s)\n",
    "    plt.xlabel('Sample Index')\n",
    "    plt.ylabel('Amplitude')\n",
    "    plt.title('Estimated source %d ' % (i+1))\n",
    "    plt.show()\n",
    "\n",
    "    # Play audio\n",
    "    aud = Audio(s, rate=f)\n",
    "    display(aud)"
   ]
  },
  {
   "cell_type": "code",
   "execution_count": null,
   "metadata": {},
   "outputs": [],
   "source": [
    "_, s1 = scipy.io.wavfile.read('band-music/Back_Vox.wav')\n",
    "\n",
    "_, s2 = scipy.io.wavfile.read('band-music/Bass.wav')\n",
    "\n",
    "_, s3 = scipy.io.wavfile.read('band-music/Drums.wav')\n",
    "\n",
    "_, s4= scipy.io.wavfile.read('band-music/Guitars.wav')\n",
    "\n",
    "_, s5= scipy.io.wavfile.read('band-music/Keys.wav')\n",
    "\n",
    "_, s6= scipy.io.wavfile.read('band-music/Lead_Vox.wav')"
   ]
  },
  {
   "cell_type": "code",
   "execution_count": null,
   "metadata": {},
   "outputs": [],
   "source": [
    "S = np.array([s1[:,0], s2[:,0], s3[:,0], s4[:,0], s5[:,0], s6[:,0]])\n",
    "\n",
    "S = S.T"
   ]
  },
  {
   "cell_type": "code",
   "execution_count": null,
   "metadata": {},
   "outputs": [],
   "source": [
    "mcc(S_est, S)"
   ]
  },
  {
   "cell_type": "code",
   "execution_count": null,
   "metadata": {},
   "outputs": [],
   "source": [
    "# Checking the difference between the channels:"
   ]
  },
  {
   "cell_type": "code",
   "execution_count": null,
   "metadata": {},
   "outputs": [],
   "source": [
    "f, s5= scipy.io.wavfile.read('band-music/Keys.wav')"
   ]
  },
  {
   "cell_type": "code",
   "execution_count": null,
   "metadata": {},
   "outputs": [],
   "source": [
    "plt.plot(s5[:,0], 'blue', alpha=0.5)\n",
    "plt.plot(s5[:,1], 'orange', alpha=0.5)"
   ]
  },
  {
   "cell_type": "code",
   "execution_count": null,
   "metadata": {},
   "outputs": [],
   "source": [
    "# Play audios\n",
    "aud = Audio(s5[:,0], rate=f)\n",
    "display(aud)\n",
    "\n",
    "aud = Audio(s5[:,1], rate=f)\n",
    "display(aud)"
   ]
  },
  {
   "cell_type": "code",
   "execution_count": null,
   "metadata": {},
   "outputs": [],
   "source": []
  }
 ],
 "metadata": {
  "kernelspec": {
   "display_name": "Python 3",
   "language": "python",
   "name": "python3"
  },
  "language_info": {
   "codemirror_mode": {
    "name": "ipython",
    "version": 3
   },
   "file_extension": ".py",
   "mimetype": "text/x-python",
   "name": "python",
   "nbconvert_exporter": "python",
   "pygments_lexer": "ipython3",
   "version": "3.7.9"
  }
 },
 "nbformat": 4,
 "nbformat_minor": 4
}
