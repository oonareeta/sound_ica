{
 "cells": [
  {
   "cell_type": "markdown",
   "metadata": {},
   "source": [
    "## Mixing audios"
   ]
  },
  {
   "cell_type": "code",
   "execution_count": null,
   "metadata": {},
   "outputs": [],
   "source": [
    "import numpy as np\n",
    "import matplotlib.pyplot as plt\n",
    "import scipy.io.wavfile\n",
    "from IPython.display import Audio\n",
    "%matplotlib inline\n",
    "import os\n",
    "\n",
    "import pydub\n",
    "from pydub import AudioSegment"
   ]
  },
  {
   "cell_type": "code",
   "execution_count": null,
   "metadata": {},
   "outputs": [],
   "source": [
    "!pwd"
   ]
  },
  {
   "cell_type": "code",
   "execution_count": null,
   "metadata": {},
   "outputs": [],
   "source": [
    "audio_names = ['Back_Vox', 'Bass', 'Drums', 'Guitars', 'Keys', 'Lead_Vox']"
   ]
  },
  {
   "cell_type": "code",
   "execution_count": null,
   "metadata": {},
   "outputs": [],
   "source": [
    "for i in range(len(audio_names)):\n",
    "    song = AudioSegment.from_mp3(\"band-music/\" + audio_names[i] + \".mp3\")\n",
    "    song.export(\"band-music/\" + audio_names[i] + \".wav\", format=\"wav\")"
   ]
  },
  {
   "cell_type": "markdown",
   "metadata": {},
   "source": [
    "### Load raw data and preprocess"
   ]
  },
  {
   "cell_type": "code",
   "execution_count": null,
   "metadata": {},
   "outputs": [],
   "source": [
    "audios = []\n",
    "audio_lengths = []\n",
    "for i in range(len(audio_names)):\n",
    "    # Load audio (freq, data)\n",
    "    f, s = scipy.io.wavfile.read('band-music/'+audio_names[i]+'.wav')\n",
    "    \n",
    "    # Pick only first channel for simplicity\n",
    "    s = s[:,0]\n",
    "    \n",
    "    audios.append(s)\n",
    "    audio_lengths.append(len(s))"
   ]
  },
  {
   "cell_type": "code",
   "execution_count": null,
   "metadata": {},
   "outputs": [],
   "source": [
    "audios"
   ]
  },
  {
   "cell_type": "code",
   "execution_count": null,
   "metadata": {},
   "outputs": [],
   "source": [
    "for audio in audios:\n",
    "    print(audio.shape)"
   ]
  },
  {
   "cell_type": "code",
   "execution_count": null,
   "metadata": {},
   "outputs": [],
   "source": [
    "# Cut audios to have same length\n",
    "min_length = min(audio_lengths)\n",
    "\n",
    "cropped_audios = []\n",
    "for audio in audios:\n",
    "    audio = audio[:min_length]\n",
    "    cropped_audios.append(audio)"
   ]
  },
  {
   "cell_type": "code",
   "execution_count": null,
   "metadata": {},
   "outputs": [],
   "source": [
    "min_length"
   ]
  },
  {
   "cell_type": "markdown",
   "metadata": {},
   "source": [
    "### Visualize, play and save preprocessed audios"
   ]
  },
  {
   "cell_type": "code",
   "execution_count": null,
   "metadata": {},
   "outputs": [],
   "source": [
    "i = 0\n",
    "for audio in cropped_audios:\n",
    "    \n",
    "    # Plot waveforms\n",
    "    plt.figure()\n",
    "    plt.plot(audio)\n",
    "    plt.xlabel('Sample Index')\n",
    "    plt.ylabel('Amplitude')\n",
    "    plt.title('Waveform of '+ audio_names[i])\n",
    "    plt.show()\n",
    "    \n",
    "    # Play audios\n",
    "    aud = Audio(audio, rate=f)\n",
    "    display(aud)\n",
    "    \n",
    "    if not os.path.exists('band-music/sources/'):\n",
    "            os.makedirs('band-music/sources/')\n",
    "\n",
    "    # Save cropped audio sources to wav filecd s\n",
    "    scipy.io.wavfile.write('band-music/sources/'+ audio_names[i] + '.wav', f, audio.astype(np.int16))\n",
    "    i+=1"
   ]
  },
  {
   "cell_type": "markdown",
   "metadata": {},
   "source": [
    "### Mix signals together\n",
    "\n",
    "This section contains a function for mixing n audios given as input together and returning n mixed audio files that can be used for the ICA separation."
   ]
  },
  {
   "cell_type": "code",
   "execution_count": null,
   "metadata": {},
   "outputs": [],
   "source": [
    "def mix_audios(audios, save_path):\n",
    "    # audios :: list of pre processed audios that have the same length\n",
    "    # save_path :: path to save the mixed audios\n",
    "    \n",
    "    n_components = len(audios)\n",
    "    \n",
    "    # Concatenate audios\n",
    "    S = audios[0]\n",
    "    for i in range(1, len(audios)):\n",
    "        S = np.c_[S, audios[i]]\n",
    "    \n",
    "    # Standardize and traspose data\n",
    "    #S = S / S.std(axis=0)\n",
    "    S = S.T\n",
    "    \n",
    "    # Create a mixing matrix\n",
    "    A = np.eye(n_components)\n",
    "    A = np.where(A==0, 0.5, A)\n",
    "    \n",
    "    # Mix signals\n",
    "    X = np.dot(A,S)\n",
    "    \n",
    "    # Visualize, play and save mixed audios\n",
    "    for i in range(X.shape[0]):\n",
    "        \n",
    "        s = X[i]\n",
    "        \n",
    "        # plot waveform\n",
    "        plt.figure()\n",
    "        plt.plot(s)\n",
    "        plt.xlabel('Sample Index')\n",
    "        plt.ylabel('Amplitude')\n",
    "        plt.title('Mixed Signal %d ' % (i+1))\n",
    "        plt.show()\n",
    "\n",
    "        # Play audio\n",
    "        aud = Audio(s, rate=f)\n",
    "        display(aud)\n",
    "        \n",
    "        if not os.path.exists(save_path+'/'+str(n_components)+'components'):\n",
    "            os.makedirs(save_path+'/'+str(n_components)+'components')\n",
    "\n",
    "        # Save mixed sounds to wav file\n",
    "        scipy.io.wavfile.write(save_path+'/'+str(n_components)+'components/mixed_' + str(i+1) + '.wav', f, s.astype(np.int16))\n"
   ]
  },
  {
   "cell_type": "markdown",
   "metadata": {},
   "source": [
    "### Mix 2 audios together using above function"
   ]
  },
  {
   "cell_type": "code",
   "execution_count": null,
   "metadata": {},
   "outputs": [],
   "source": [
    "to_mix = [cropped_audios[0], cropped_audios[1]]"
   ]
  },
  {
   "cell_type": "code",
   "execution_count": null,
   "metadata": {},
   "outputs": [],
   "source": [
    "mix_audios(to_mix, 'band-music/mixed_audios')"
   ]
  },
  {
   "cell_type": "markdown",
   "metadata": {},
   "source": [
    "### Mix 3 audios together using above function"
   ]
  },
  {
   "cell_type": "code",
   "execution_count": null,
   "metadata": {},
   "outputs": [],
   "source": [
    "to_mix = [cropped_audios[0], cropped_audios[1], cropped_audios[2]]\n",
    "mix_audios(to_mix, 'band-music/mixed_audios')"
   ]
  },
  {
   "cell_type": "markdown",
   "metadata": {},
   "source": [
    "### Mix 4 audios together using above function"
   ]
  },
  {
   "cell_type": "code",
   "execution_count": null,
   "metadata": {},
   "outputs": [],
   "source": [
    "to_mix = [cropped_audios[0], cropped_audios[1], cropped_audios[2], cropped_audios[3]]\n",
    "mix_audios(to_mix, 'band-music/mixed_audios')"
   ]
  },
  {
   "cell_type": "markdown",
   "metadata": {},
   "source": [
    "### Mix 5 audios together using above function"
   ]
  },
  {
   "cell_type": "code",
   "execution_count": null,
   "metadata": {},
   "outputs": [],
   "source": [
    "to_mix = [cropped_audios[0], cropped_audios[1], cropped_audios[2], cropped_audios[3], cropped_audios[4]]\n",
    "mix_audios(to_mix, 'band-music/mixed_audios')"
   ]
  },
  {
   "cell_type": "code",
   "execution_count": null,
   "metadata": {},
   "outputs": [],
   "source": []
  }
 ],
 "metadata": {
  "kernelspec": {
   "display_name": "Python 3",
   "language": "python",
   "name": "python3"
  },
  "language_info": {
   "codemirror_mode": {
    "name": "ipython",
    "version": 3
   },
   "file_extension": ".py",
   "mimetype": "text/x-python",
   "name": "python",
   "nbconvert_exporter": "python",
   "pygments_lexer": "ipython3",
   "version": "3.7.9"
  }
 },
 "nbformat": 4,
 "nbformat_minor": 4
}
